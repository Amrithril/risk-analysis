{
 "cells": [
  {
   "cell_type": "code",
   "execution_count": 1,
   "metadata": {},
   "outputs": [],
   "source": [
    "import pandas as pd\n",
    "import urllib\n",
    "import json\n",
    "  \n",
    "country = 'swe'\n",
    "\n",
    "#for Sweden. \n",
    "url='https://api.apify.com/v2/key-value-stores/8mRFdwyukavRNCr42/records/LATEST?disableRedirect=true'\n",
    "# For Norway \n",
    "# url='https://api.apify.com/v2/key-value-stores/3qlmMu1XN2ZLoVIQt/records/LATEST?disableRedirect=true'\n",
    "# Check https://apify.com/covid-19 for other countries. \n",
    "\n",
    "\n",
    "response = urllib.request.urlopen(url)\n",
    "data = json.loads(response.read())\n",
    "\n",
    "df = pd.DataFrame(data['infectedByRegion'])\n",
    "df['country']=country\n",
    "df.rename(columns={'infectedCount': 'infected', 'deathCount': 'death', \n",
    "                   'intensiveCareCount': 'intensive_care', 'region': 'city'}, inplace=True)\n",
    "\n",
    "df.to_csv('city_stat.csv') "
   ]
  }
 ],
 "metadata": {
  "kernelspec": {
   "display_name": "Python 3",
   "language": "python",
   "name": "python3"
  },
  "language_info": {
   "codemirror_mode": {
    "name": "ipython",
    "version": 3
   },
   "file_extension": ".py",
   "mimetype": "text/x-python",
   "name": "python",
   "nbconvert_exporter": "python",
   "pygments_lexer": "ipython3",
   "version": "3.7.3"
  }
 },
 "nbformat": 4,
 "nbformat_minor": 2
}
