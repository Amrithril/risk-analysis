{
 "cells": [
  {
   "cell_type": "code",
   "execution_count": 1,
   "metadata": {},
   "outputs": [],
   "source": [
    "import codecs\n",
    "import pandas as pd\n",
    "\n",
    "doc = codecs.open('population.txt','rU') #open for reading with \"universal\" type set\n",
    "\n",
    "df = pd.read_csv(doc, sep='\\t')\n",
    "\n",
    "df['postal_code'] = [df['region'][i][0:df['region'][i].find(' ')] for i in range(df.shape[0])]\n",
    "df['city'] = [df['region'][i][df['region'][i].find(' ')+1:-1] for i in range(df.shape[0])]\n",
    "\n",
    "df = df.rename(columns = {'Population':'population'})\n",
    "\n",
    "country = 'swe'\n",
    "df['country']=country\n",
    "\n",
    "df = df[['country','postal_code', 'city', 'population', 'year']]\n",
    "\n",
    "df.to_csv('population.csv', index=False)\n"
   ]
  }
 ],
 "metadata": {
  "kernelspec": {
   "display_name": "Python 3",
   "language": "python",
   "name": "python3"
  },
  "language_info": {
   "codemirror_mode": {
    "name": "ipython",
    "version": 3
   },
   "file_extension": ".py",
   "mimetype": "text/x-python",
   "name": "python",
   "nbconvert_exporter": "python",
   "pygments_lexer": "ipython3",
   "version": "3.7.3"
  }
 },
 "nbformat": 4,
 "nbformat_minor": 2
}
