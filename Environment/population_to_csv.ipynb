{
 "cells": [
  {
   "cell_type": "code",
   "execution_count": 10,
   "metadata": {},
   "outputs": [],
   "source": [
    "import codecs\n",
    "import pandas as pd\n",
    "import json\n",
    "\n",
    "country = 'swe'\n",
    "\n",
    "doc1 = codecs.open('population_county.txt','rU') #open for reading with \"universal\" type set\n",
    "population_county = pd.read_csv(doc1, sep='\\t')\n",
    "population_county['region'] = [population_county['region'][i][population_county['region'][i].find(' ')+1:population_county['region'][i].find(' county')] \n",
    "                               for i in range(population_county.shape[0])]\n",
    "\n",
    "population_county = population_county.rename(columns = {'Population':'population', 'region':'county'})\n",
    "population_county['country']=country\n",
    "population_county = population_county[['country', 'county', 'population', 'year']]\n",
    "population_county.to_csv('population_county.csv', index=False)\n",
    "\n",
    "# population for municipalities \n",
    "\n",
    "doc2 = codecs.open('population_municipality.txt','rU') #open for reading with \"universal\" type set\n",
    "\n",
    "population_municipality = pd.read_csv(doc2, sep='\\t')\n",
    "population_municipality['postal_code'] = [population_municipality['region'][i][0:population_municipality['region'][i].find(' ')] \n",
    "                                          for i in range(population_municipality.shape[0])]\n",
    "population_municipality['city'] = [population_municipality['region'][i][population_municipality['region'][i].find(' ')+1:] \n",
    "                                   for i in range(population_municipality.shape[0])]\n",
    "\n",
    "population_municipality = population_municipality.rename(columns = {'Population':'population', 'city':'municipality'})\n",
    "population_municipality['country']=country\n",
    "population_municipality = population_municipality[['country','postal_code', 'municipality', 'population', 'year']]\n",
    "population_municipality.to_csv('population_municipality.csv', index=False)\n"
   ]
  }
 ],
 "metadata": {
  "kernelspec": {
   "display_name": "Python 3",
   "language": "python",
   "name": "python3"
  },
  "language_info": {
   "codemirror_mode": {
    "name": "ipython",
    "version": 3
   },
   "file_extension": ".py",
   "mimetype": "text/x-python",
   "name": "python",
   "nbconvert_exporter": "python",
   "pygments_lexer": "ipython3",
   "version": "3.7.3"
  }
 },
 "nbformat": 4,
 "nbformat_minor": 2
}
